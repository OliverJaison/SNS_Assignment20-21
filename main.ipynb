{
 "cells": [
  {
   "cell_type": "code",
   "execution_count": 1,
   "metadata": {},
   "outputs": [
    {
     "name": "stderr",
     "output_type": "stream",
     "text": [
      "Using TensorFlow backend.\n"
     ]
    }
   ],
   "source": [
    "from bs4 import BeautifulSoup as bs4\n",
    "from datetime import date\n",
    "from sklearn import preprocessing\n",
    "import pandas as pd\n",
    "import numpy as np\n",
    "import requests\n",
    "import os\n",
    "import csv\n",
    "import keras\n",
    "import matplotlib.pyplot as plt\n",
    "from sklearn.model_selection import train_test_split\n",
    "from keras.models import Sequential\n",
    "from keras.layers import Activation\n",
    "from keras.layers import Dropout\n",
    "from keras.layers import InputLayer\n",
    "from keras.layers.core import Dense, Flatten\n",
    "from keras.optimizers import Adam\n",
    "from keras.metrics import categorical_crossentropy "
   ]
  },
  {
   "cell_type": "markdown",
   "metadata": {},
   "source": [
    "Pulls data from websites and stores them in csv files"
   ]
  },
  {
   "cell_type": "code",
   "execution_count": 2,
   "metadata": {},
   "outputs": [],
   "source": [
    "def update_data():\n",
    "    positive_cases_csv_URL = \"https://covid.ourworldindata.org/data/owid-covid-data.csv\"\n",
    "    req = requests.get(positive_cases_csv_URL)\n",
    "    URL_content = req.content\n",
    "    positive_cases_file = open(\"positive_cases.csv\", \"wb\")\n",
    "    positive_cases_file.write(URL_content)\n",
    "    positive_cases_file.close()"
   ]
  },
  {
   "cell_type": "markdown",
   "metadata": {},
   "source": [
    "This is purely for the sources of data that include data outside the UK as having international data would mean too much to parse through"
   ]
  },
  {
   "cell_type": "code",
   "execution_count": 3,
   "metadata": {},
   "outputs": [],
   "source": [
    "def filter_data(filename):\n",
    "    uk = list()\n",
    "    with open(filename, 'r') as readFile:\n",
    "        reader = csv.reader(readFile)\n",
    "        for row in reader:\n",
    "            if row[0] == \"GBR\" or row[0] == \"iso_code\":\n",
    "                uk.append(row)\n",
    "    \n",
    "    with open(filename, 'w') as writeFile:\n",
    "        writer = csv.writer(writeFile)\n",
    "        writer.writerows(uk)  \n"
   ]
  },
  {
   "cell_type": "markdown",
   "metadata": {},
   "source": [
    "Counts the number of days since the earliest data entry"
   ]
  },
  {
   "cell_type": "code",
   "execution_count": 4,
   "metadata": {},
   "outputs": [],
   "source": [
    "def numberofdays(date_in_question):\n",
    "    start_date = date(2020, 1, 31)\n",
    "    dateq = date_in_question.split(\"-\")\n",
    "    cdate = date(int(dateq[0]), int(dateq[1]), int(dateq[2]))\n",
    "    return (cdate - start_date).days"
   ]
  },
  {
   "cell_type": "markdown",
   "metadata": {},
   "source": [
    "This will normalise all the data in a dataframe"
   ]
  },
  {
   "cell_type": "code",
   "execution_count": 5,
   "metadata": {},
   "outputs": [],
   "source": [
    "def normalise_dataframe(df):\n",
    "    for i in range(1, len(df.columns)):\n",
    "        maxi = max(df.iloc[:,i])\n",
    "        mini = min(df.iloc[:,i])\n",
    "        for j in range(len(df.iloc[:,0])):\n",
    "            df.iloc[j, i] = (df.iloc[j, i] - mini)/(maxi-mini)"
   ]
  },
  {
   "cell_type": "markdown",
   "metadata": {},
   "source": [
    "This will only take columns in the data frame with no NaNs"
   ]
  },
  {
   "cell_type": "code",
   "execution_count": 45,
   "metadata": {},
   "outputs": [],
   "source": [
    "def no_NaNs(df):\n",
    "    data = []\n",
    "    for column in df.columns:\n",
    "        temp = [float(i) for i in df[column]]\n",
    "        if np.isnan(np.sum(np.array(temp))):\n",
    "            df.drop([column], inplace=True, axis=1)"
   ]
  },
  {
   "cell_type": "code",
   "execution_count": 49,
   "metadata": {},
   "outputs": [],
   "source": [
    "update_data() "
   ]
  },
  {
   "cell_type": "code",
   "execution_count": 50,
   "metadata": {},
   "outputs": [],
   "source": [
    "filter_data(\"positive_cases.csv\")"
   ]
  },
  {
   "cell_type": "markdown",
   "metadata": {},
   "source": [
    "Grabs the current working directory where the csv files are stored"
   ]
  },
  {
   "cell_type": "code",
   "execution_count": 51,
   "metadata": {},
   "outputs": [],
   "source": [
    "working_dir = os.getcwd()"
   ]
  },
  {
   "cell_type": "markdown",
   "metadata": {},
   "source": [
    "Reads the csv files into their respective dataframes"
   ]
  },
  {
   "cell_type": "code",
   "execution_count": 52,
   "metadata": {},
   "outputs": [],
   "source": [
    "pos_cases_df = pd.read_csv(os.path.join(working_dir, \"positive_cases.csv\"))\n",
    "pos_cases_df.drop(pos_cases_df.iloc[:, 0:3], inplace = True, axis=1)\n",
    "dates = pos_cases_df[\"date\"]\n",
    "pos_cases_df.drop([\"date\"], inplace = True, axis=1)\n",
    "pos_cases_df.drop([\"tests_units\"], inplace = True, axis=1)"
   ]
  },
  {
   "cell_type": "code",
   "execution_count": 53,
   "metadata": {},
   "outputs": [],
   "source": [
    "no_NaNs(pos_cases_df)"
   ]
  },
  {
   "cell_type": "code",
   "execution_count": 54,
   "metadata": {},
   "outputs": [
    {
     "name": "stdout",
     "output_type": "stream",
     "text": [
      "   total_cases  new_cases  total_cases_per_million  new_cases_per_million  \\\n",
      "0          2.0        2.0                    0.029                  0.029   \n",
      "1          2.0        0.0                    0.029                  0.000   \n",
      "2          2.0        0.0                    0.029                  0.000   \n",
      "3          8.0        6.0                    0.118                  0.088   \n",
      "4          8.0        0.0                    0.118                  0.000   \n",
      "\n",
      "   population  population_density  median_age  aged_65_older  aged_70_older  \\\n",
      "0  67886004.0             272.898        40.8         18.517         12.527   \n",
      "1  67886004.0             272.898        40.8         18.517         12.527   \n",
      "2  67886004.0             272.898        40.8         18.517         12.527   \n",
      "3  67886004.0             272.898        40.8         18.517         12.527   \n",
      "4  67886004.0             272.898        40.8         18.517         12.527   \n",
      "\n",
      "   gdp_per_capita  extreme_poverty  cardiovasc_death_rate  \\\n",
      "0       39753.244              0.2                122.137   \n",
      "1       39753.244              0.2                122.137   \n",
      "2       39753.244              0.2                122.137   \n",
      "3       39753.244              0.2                122.137   \n",
      "4       39753.244              0.2                122.137   \n",
      "\n",
      "   diabetes_prevalence  female_smokers  male_smokers  \\\n",
      "0                 4.28            20.0          24.7   \n",
      "1                 4.28            20.0          24.7   \n",
      "2                 4.28            20.0          24.7   \n",
      "3                 4.28            20.0          24.7   \n",
      "4                 4.28            20.0          24.7   \n",
      "\n",
      "   hospital_beds_per_thousand  life_expectancy  human_development_index  \n",
      "0                        2.54            81.32                    0.932  \n",
      "1                        2.54            81.32                    0.932  \n",
      "2                        2.54            81.32                    0.932  \n",
      "3                        2.54            81.32                    0.932  \n",
      "4                        2.54            81.32                    0.932  \n"
     ]
    }
   ],
   "source": [
    "print(pos_cases_df.head())"
   ]
  },
  {
   "cell_type": "code",
   "execution_count": 56,
   "metadata": {},
   "outputs": [
    {
     "name": "stdout",
     "output_type": "stream",
     "text": [
      "<class 'pandas.core.frame.DataFrame'>\n",
      "RangeIndex: 411 entries, 0 to 410\n",
      "Data columns (total 18 columns):\n",
      " #   Column                      Non-Null Count  Dtype  \n",
      "---  ------                      --------------  -----  \n",
      " 0   total_cases                 411 non-null    float64\n",
      " 1   new_cases                   411 non-null    float64\n",
      " 2   total_cases_per_million     411 non-null    float64\n",
      " 3   new_cases_per_million       411 non-null    float64\n",
      " 4   population                  411 non-null    float64\n",
      " 5   population_density          411 non-null    float64\n",
      " 6   median_age                  411 non-null    float64\n",
      " 7   aged_65_older               411 non-null    float64\n",
      " 8   aged_70_older               411 non-null    float64\n",
      " 9   gdp_per_capita              411 non-null    float64\n",
      " 10  extreme_poverty             411 non-null    float64\n",
      " 11  cardiovasc_death_rate       411 non-null    float64\n",
      " 12  diabetes_prevalence         411 non-null    float64\n",
      " 13  female_smokers              411 non-null    float64\n",
      " 14  male_smokers                411 non-null    float64\n",
      " 15  hospital_beds_per_thousand  411 non-null    float64\n",
      " 16  life_expectancy             411 non-null    float64\n",
      " 17  human_development_index     411 non-null    float64\n",
      "dtypes: float64(18)\n",
      "memory usage: 57.9 KB\n",
      "None\n"
     ]
    }
   ],
   "source": [
    "print(pos_cases_df.info())"
   ]
  },
  {
   "cell_type": "markdown",
   "metadata": {},
   "source": [
    "Normalize all the data in the dataframe"
   ]
  },
  {
   "cell_type": "code",
   "execution_count": null,
   "metadata": {},
   "outputs": [],
   "source": [
    "normalise_dataframe(pos_cases_df)"
   ]
  },
  {
   "cell_type": "markdown",
   "metadata": {},
   "source": [
    "Code just adds a column to the dataframe that counts the number of days since the earliest data entry"
   ]
  },
  {
   "cell_type": "code",
   "execution_count": 57,
   "metadata": {},
   "outputs": [],
   "source": [
    "daysSince = []\n",
    "for i in range(len(pos_cases_df)):\n",
    "    daysSince.append(i)\n",
    "pos_cases_df[\"daysSince\"] = daysSince"
   ]
  },
  {
   "cell_type": "code",
   "execution_count": 58,
   "metadata": {},
   "outputs": [
    {
     "name": "stdout",
     "output_type": "stream",
     "text": [
      "     total_cases  new_cases  total_cases_per_million  new_cases_per_million  \\\n",
      "406    4261398.0     6684.0                62772.851                 98.459   \n",
      "407    4267015.0     5617.0                62855.592                 82.742   \n",
      "408    4271710.0     4695.0                62924.753                 69.160   \n",
      "409    4276840.0     5130.0                63000.320                 75.568   \n",
      "410    4282203.0     5363.0                63079.320                 79.000   \n",
      "\n",
      "     population  population_density  median_age  aged_65_older  aged_70_older  \\\n",
      "406  67886004.0             272.898        40.8         18.517         12.527   \n",
      "407  67886004.0             272.898        40.8         18.517         12.527   \n",
      "408  67886004.0             272.898        40.8         18.517         12.527   \n",
      "409  67886004.0             272.898        40.8         18.517         12.527   \n",
      "410  67886004.0             272.898        40.8         18.517         12.527   \n",
      "\n",
      "     gdp_per_capita  extreme_poverty  cardiovasc_death_rate  \\\n",
      "406       39753.244              0.2                122.137   \n",
      "407       39753.244              0.2                122.137   \n",
      "408       39753.244              0.2                122.137   \n",
      "409       39753.244              0.2                122.137   \n",
      "410       39753.244              0.2                122.137   \n",
      "\n",
      "     diabetes_prevalence  female_smokers  male_smokers  \\\n",
      "406                 4.28            20.0          24.7   \n",
      "407                 4.28            20.0          24.7   \n",
      "408                 4.28            20.0          24.7   \n",
      "409                 4.28            20.0          24.7   \n",
      "410                 4.28            20.0          24.7   \n",
      "\n",
      "     hospital_beds_per_thousand  life_expectancy  human_development_index  \\\n",
      "406                        2.54            81.32                    0.932   \n",
      "407                        2.54            81.32                    0.932   \n",
      "408                        2.54            81.32                    0.932   \n",
      "409                        2.54            81.32                    0.932   \n",
      "410                        2.54            81.32                    0.932   \n",
      "\n",
      "     daysSince  \n",
      "406        406  \n",
      "407        407  \n",
      "408        408  \n",
      "409        409  \n",
      "410        410  \n"
     ]
    }
   ],
   "source": [
    "print(pos_cases_df.tail())"
   ]
  },
  {
   "cell_type": "code",
   "execution_count": null,
   "metadata": {},
   "outputs": [],
   "source": []
  }
 ],
 "metadata": {
  "kernelspec": {
   "display_name": "Python 3",
   "language": "python",
   "name": "python3"
  },
  "language_info": {
   "codemirror_mode": {
    "name": "ipython",
    "version": 3
   },
   "file_extension": ".py",
   "mimetype": "text/x-python",
   "name": "python",
   "nbconvert_exporter": "python",
   "pygments_lexer": "ipython3",
   "version": "3.7.9"
  }
 },
 "nbformat": 4,
 "nbformat_minor": 4
}
